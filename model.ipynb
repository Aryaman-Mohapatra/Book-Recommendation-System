{
 "cells": [
  {
   "cell_type": "code",
   "execution_count": 1,
   "id": "b57e8468-05e2-4dc0-8f7b-d2b2699ebbf8",
   "metadata": {},
   "outputs": [],
   "source": [
    "import pandas as pd\n",
    "import numpy as np\n",
    "from sklearn.feature_extraction.text import TfidfVectorizer\n",
    "from sklearn.neighbors import NearestNeighbors\n",
    "import joblib\n",
    "import gc"
   ]
  },
  {
   "cell_type": "code",
   "execution_count": null,
   "id": "80002790-45a2-48ff-aa19-433c1cb658f0",
   "metadata": {},
   "outputs": [],
   "source": [
    "# 1. Load data (optionally sample if too large)\n",
    "df = pd.read_csv('kindle_data-v2.csv')\n",
    "# df = df.sample(20000)  # Uncomment to work with subset"
   ]
  },
  {
   "cell_type": "code",
   "execution_count": null,
   "id": "66c0e05a-761b-4de8-a0a9-dc72281f5489",
   "metadata": {},
   "outputs": [
    {
     "name": "stdout",
     "output_type": "stream",
     "text": [
      "Available columns: ['asin', 'title', 'author', 'soldBy', 'imgUrl', 'productURL', 'stars', 'reviews', 'price', 'isKindleUnlimited', 'category_id', 'isBestSeller', 'isEditorsPick', 'isGoodReadsChoice', 'publishedDate', 'category_name']\n"
     ]
    }
   ],
   "source": [
    "# Check available columns\n",
    "print(\"Available columns:\", df.columns.tolist())"
   ]
  },
  {
   "cell_type": "code",
   "execution_count": null,
   "id": "b53b3bca-6097-4fb2-8676-df0bd6697e7d",
   "metadata": {},
   "outputs": [],
   "source": [
    "# 2. Preprocessing\n",
    "df = df.fillna('')\n",
    "df['content'] = df['title'] + ' ' + df['author'] + ' ' + df['category_name']"
   ]
  },
  {
   "cell_type": "code",
   "execution_count": 53,
   "id": "8abfe8ba-3c73-488a-88ff-78e56d1bf5be",
   "metadata": {},
   "outputs": [],
   "source": [
    "# 3. Create TF-IDF matrix with limited features\n",
    "tfidf = TfidfVectorizer(\n",
    "    stop_words='english',\n",
    "    max_features=10000,  # Reduced vocabulary size\n",
    "    ngram_range=(1, 2)\n",
    ")"
   ]
  },
  {
   "cell_type": "code",
   "execution_count": 57,
   "id": "ed3f4782-e84e-4e44-ade7-0d9ddc8a06cb",
   "metadata": {},
   "outputs": [],
   "source": [
    "# Create content using only existing columns\n",
    "content_parts = []\n",
    "for col in ['title', 'author', 'category_name', 'description']:\n",
    "    if col in df.columns:\n",
    "        content_parts.append(df[col])\n",
    "\n",
    "if not content_parts:\n",
    "    raise ValueError(\"No valid columns found to create content\")\n",
    "\n",
    "# Correct way to combine columns\n",
    "df['content'] = df[content_parts[0].name].astype(str)\n",
    "for col_df in content_parts[1:]:\n",
    "    df['content'] = df['content'] + ' ' + col_df.astype(str)"
   ]
  },
  {
   "cell_type": "code",
   "execution_count": 59,
   "id": "4455b33e-847d-4981-929d-0631b28cce70",
   "metadata": {},
   "outputs": [
    {
     "name": "stdout",
     "output_type": "stream",
     "text": [
      "Sample combined content:\n",
      "0    Adult Children of Emotionally Immature Parents...\n",
      "1    From Strength to Strength: Finding Success, Ha...\n",
      "2    Good Inside: A Guide to Becoming the Parent Yo...\n",
      "Name: content, dtype: object\n"
     ]
    }
   ],
   "source": [
    "# 3. Preprocessing - create content from available columns\n",
    "df = df.fillna('')\n",
    "\n",
    "# Create content using only existing columns\n",
    "available_columns = [col for col in ['title', 'author', 'category_name', 'description'] if col in df.columns]\n",
    "\n",
    "if not available_columns:\n",
    "    raise ValueError(\"No valid columns found to create content\")\n",
    "\n",
    "# Initialize with first available column\n",
    "df['content'] = df[available_columns[0]].astype(str)\n",
    "\n",
    "# Add remaining columns\n",
    "for col in available_columns[1:]:\n",
    "    df['content'] = df['content'] + ' ' + df[col].astype(str)\n",
    "\n",
    "# Verify\n",
    "print(\"Sample combined content:\")\n",
    "print(df['content'].head(3))\n"
   ]
  },
  {
   "cell_type": "code",
   "execution_count": 61,
   "id": "9453cbb5-b86a-4a92-96c1-e82f2d2c035b",
   "metadata": {},
   "outputs": [],
   "source": [
    "# Create content from available columns (adapt based on your actual columns)\n",
    "available_text_columns = [col for col in ['title', 'author', 'category_name', 'description'] \n",
    "                         if col in df.columns]\n",
    "\n",
    "if not available_text_columns:\n",
    "    raise ValueError(\"No text columns available for recommendations\")\n",
    "\n",
    "# Combine text columns row by row\n",
    "df['content'] = df[available_text_columns[0]].astype(str)\n",
    "for col in available_text_columns[1:]:\n",
    "    df['content'] = df['content'] + ' ' + df[col].astype(str)"
   ]
  },
  {
   "cell_type": "code",
   "execution_count": 71,
   "id": "93c1ff0a-3b2e-44fb-a02a-9d848d0bc063",
   "metadata": {},
   "outputs": [
    {
     "name": "stdout",
     "output_type": "stream",
     "text": [
      "\n",
      "Creating TF-IDF features...\n"
     ]
    }
   ],
   "source": [
    "# 4. Create TF-IDF matrix\n",
    "print(\"\\nCreating TF-IDF features...\")\n",
    "tfidf = TfidfVectorizer(\n",
    "    stop_words='english',\n",
    "    max_features=10000,  # Reduced memory usage\n",
    "    ngram_range=(1, 2)\n",
    ")\n",
    "# Ensure content is in the correct string format\n",
    "text_data = df['content'].tolist()  # Convert to list of strings\n",
    "tfidf_matrix = tfidf.fit_transform(text_data)\n",
    "\n"
   ]
  },
  {
   "cell_type": "code",
   "execution_count": 72,
   "id": "29e6c48b-37ed-40da-9e66-b6da3a9f8519",
   "metadata": {},
   "outputs": [
    {
     "name": "stdout",
     "output_type": "stream",
     "text": [
      "Training recommendation model...\n"
     ]
    },
    {
     "data": {
      "text/html": [
       "<style>#sk-container-id-3 {color: black;background-color: white;}#sk-container-id-3 pre{padding: 0;}#sk-container-id-3 div.sk-toggleable {background-color: white;}#sk-container-id-3 label.sk-toggleable__label {cursor: pointer;display: block;width: 100%;margin-bottom: 0;padding: 0.3em;box-sizing: border-box;text-align: center;}#sk-container-id-3 label.sk-toggleable__label-arrow:before {content: \"▸\";float: left;margin-right: 0.25em;color: #696969;}#sk-container-id-3 label.sk-toggleable__label-arrow:hover:before {color: black;}#sk-container-id-3 div.sk-estimator:hover label.sk-toggleable__label-arrow:before {color: black;}#sk-container-id-3 div.sk-toggleable__content {max-height: 0;max-width: 0;overflow: hidden;text-align: left;background-color: #f0f8ff;}#sk-container-id-3 div.sk-toggleable__content pre {margin: 0.2em;color: black;border-radius: 0.25em;background-color: #f0f8ff;}#sk-container-id-3 input.sk-toggleable__control:checked~div.sk-toggleable__content {max-height: 200px;max-width: 100%;overflow: auto;}#sk-container-id-3 input.sk-toggleable__control:checked~label.sk-toggleable__label-arrow:before {content: \"▾\";}#sk-container-id-3 div.sk-estimator input.sk-toggleable__control:checked~label.sk-toggleable__label {background-color: #d4ebff;}#sk-container-id-3 div.sk-label input.sk-toggleable__control:checked~label.sk-toggleable__label {background-color: #d4ebff;}#sk-container-id-3 input.sk-hidden--visually {border: 0;clip: rect(1px 1px 1px 1px);clip: rect(1px, 1px, 1px, 1px);height: 1px;margin: -1px;overflow: hidden;padding: 0;position: absolute;width: 1px;}#sk-container-id-3 div.sk-estimator {font-family: monospace;background-color: #f0f8ff;border: 1px dotted black;border-radius: 0.25em;box-sizing: border-box;margin-bottom: 0.5em;}#sk-container-id-3 div.sk-estimator:hover {background-color: #d4ebff;}#sk-container-id-3 div.sk-parallel-item::after {content: \"\";width: 100%;border-bottom: 1px solid gray;flex-grow: 1;}#sk-container-id-3 div.sk-label:hover label.sk-toggleable__label {background-color: #d4ebff;}#sk-container-id-3 div.sk-serial::before {content: \"\";position: absolute;border-left: 1px solid gray;box-sizing: border-box;top: 0;bottom: 0;left: 50%;z-index: 0;}#sk-container-id-3 div.sk-serial {display: flex;flex-direction: column;align-items: center;background-color: white;padding-right: 0.2em;padding-left: 0.2em;position: relative;}#sk-container-id-3 div.sk-item {position: relative;z-index: 1;}#sk-container-id-3 div.sk-parallel {display: flex;align-items: stretch;justify-content: center;background-color: white;position: relative;}#sk-container-id-3 div.sk-item::before, #sk-container-id-3 div.sk-parallel-item::before {content: \"\";position: absolute;border-left: 1px solid gray;box-sizing: border-box;top: 0;bottom: 0;left: 50%;z-index: -1;}#sk-container-id-3 div.sk-parallel-item {display: flex;flex-direction: column;z-index: 1;position: relative;background-color: white;}#sk-container-id-3 div.sk-parallel-item:first-child::after {align-self: flex-end;width: 50%;}#sk-container-id-3 div.sk-parallel-item:last-child::after {align-self: flex-start;width: 50%;}#sk-container-id-3 div.sk-parallel-item:only-child::after {width: 0;}#sk-container-id-3 div.sk-dashed-wrapped {border: 1px dashed gray;margin: 0 0.4em 0.5em 0.4em;box-sizing: border-box;padding-bottom: 0.4em;background-color: white;}#sk-container-id-3 div.sk-label label {font-family: monospace;font-weight: bold;display: inline-block;line-height: 1.2em;}#sk-container-id-3 div.sk-label-container {text-align: center;}#sk-container-id-3 div.sk-container {/* jupyter's `normalize.less` sets `[hidden] { display: none; }` but bootstrap.min.css set `[hidden] { display: none !important; }` so we also need the `!important` here to be able to override the default hidden behavior on the sphinx rendered scikit-learn.org. See: https://github.com/scikit-learn/scikit-learn/issues/21755 */display: inline-block !important;position: relative;}#sk-container-id-3 div.sk-text-repr-fallback {display: none;}</style><div id=\"sk-container-id-3\" class=\"sk-top-container\"><div class=\"sk-text-repr-fallback\"><pre>NearestNeighbors(algorithm=&#x27;brute&#x27;, metric=&#x27;cosine&#x27;, n_jobs=-1, n_neighbors=11)</pre><b>In a Jupyter environment, please rerun this cell to show the HTML representation or trust the notebook. <br />On GitHub, the HTML representation is unable to render, please try loading this page with nbviewer.org.</b></div><div class=\"sk-container\" hidden><div class=\"sk-item\"><div class=\"sk-estimator sk-toggleable\"><input class=\"sk-toggleable__control sk-hidden--visually\" id=\"sk-estimator-id-3\" type=\"checkbox\" checked><label for=\"sk-estimator-id-3\" class=\"sk-toggleable__label sk-toggleable__label-arrow\">NearestNeighbors</label><div class=\"sk-toggleable__content\"><pre>NearestNeighbors(algorithm=&#x27;brute&#x27;, metric=&#x27;cosine&#x27;, n_jobs=-1, n_neighbors=11)</pre></div></div></div></div></div>"
      ],
      "text/plain": [
       "NearestNeighbors(algorithm='brute', metric='cosine', n_jobs=-1, n_neighbors=11)"
      ]
     },
     "execution_count": 72,
     "metadata": {},
     "output_type": "execute_result"
    }
   ],
   "source": [
    "# 5. Build recommendation model\n",
    "print(\"Training recommendation model...\")\n",
    "nn = NearestNeighbors(\n",
    "    n_neighbors=11,  # 10 similar + itself\n",
    "    metric='cosine',\n",
    "    algorithm='brute',\n",
    "    n_jobs=-1\n",
    ")\n",
    "nn.fit(tfidf_matrix)"
   ]
  },
  {
   "cell_type": "code",
   "execution_count": 75,
   "id": "cabf23cb-4d17-4902-ba2e-e6d97f5e5693",
   "metadata": {},
   "outputs": [],
   "source": [
    "# 6. Save artifacts\n",
    "joblib.dump(nn, 'recommendation_model.pkl')\n",
    "joblib.dump(tfidf, 'tfidf_vectorizer.pkl')\n",
    "df.to_csv('processed_books.csv', index=False)"
   ]
  },
  {
   "cell_type": "code",
   "execution_count": 77,
   "id": "f9aa9713-4275-4711-b9bd-3138bbf22a72",
   "metadata": {},
   "outputs": [
    {
     "name": "stdout",
     "output_type": "stream",
     "text": [
      "\n",
      "Successfully saved:\n",
      "- recommendation_model.pkl (trained model)\n",
      "- tfidf_vectorizer.pkl (text processor)\n",
      "- processed_books.csv (cleaned data)\n"
     ]
    }
   ],
   "source": [
    "# Clean up\n",
    "del df['content']\n",
    "gc.collect()\n",
    "\n",
    "print(\"\\nSuccessfully saved:\")\n",
    "print(\"- recommendation_model.pkl (trained model)\")\n",
    "print(\"- tfidf_vectorizer.pkl (text processor)\")\n",
    "print(\"- processed_books.csv (cleaned data)\")"
   ]
  },
  {
   "cell_type": "code",
   "execution_count": null,
   "id": "11ca43a1-eeca-4775-ad59-94a202c5510b",
   "metadata": {},
   "outputs": [],
   "source": []
  }
 ],
 "metadata": {
  "kernelspec": {
   "display_name": "Python 3",
   "language": "python",
   "name": "python3"
  },
  "language_info": {
   "codemirror_mode": {
    "name": "ipython",
    "version": 3
   },
   "file_extension": ".py",
   "mimetype": "text/x-python",
   "name": "python",
   "nbconvert_exporter": "python",
   "pygments_lexer": "ipython3",
   "version": "3.13.2"
  }
 },
 "nbformat": 4,
 "nbformat_minor": 5
}
